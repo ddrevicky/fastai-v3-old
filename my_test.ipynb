{
 "cells": [
  {
   "cell_type": "code",
   "execution_count": 1,
   "metadata": {},
   "outputs": [],
   "source": [
    "%reload_ext autoreload\n",
    "%autoreload 2\n",
    "%matplotlib inline"
   ]
  },
  {
   "cell_type": "code",
   "execution_count": 2,
   "metadata": {},
   "outputs": [],
   "source": [
    "from fastai.vision import *\n",
    "from fastai.metrics import error_rate"
   ]
  },
  {
   "cell_type": "code",
   "execution_count": 3,
   "metadata": {},
   "outputs": [
    {
     "data": {
      "text/plain": [
       "[PosixPath('/home/jupyter/.fastai/data/planet/train_v2.csv'),\n",
       " PosixPath('/home/jupyter/.fastai/data/planet/models'),\n",
       " PosixPath('/home/jupyter/.fastai/data/planet/train_v2.csv.zip'),\n",
       " PosixPath('/home/jupyter/.fastai/data/planet/train-jpg'),\n",
       " PosixPath('/home/jupyter/.fastai/data/planet/test-jpg.tar.7z'),\n",
       " PosixPath('/home/jupyter/.fastai/data/planet/test-jpg'),\n",
       " PosixPath('/home/jupyter/.fastai/data/planet/__MACOSX'),\n",
       " PosixPath('/home/jupyter/.fastai/data/planet/train-jpg.tar.7z')]"
      ]
     },
     "execution_count": 3,
     "metadata": {},
     "output_type": "execute_result"
    }
   ],
   "source": [
    "path = Config().data_path()/'planet'; path.ls()"
   ]
  },
  {
   "cell_type": "code",
   "execution_count": 5,
   "metadata": {},
   "outputs": [
    {
     "name": "stdout",
     "output_type": "stream",
     "text": [
      "709M\t/home/jupyter/.fastai/data/planet/models\n",
      "755M\t/home/jupyter/.fastai/data/planet/train-jpg/models\n",
      "1.5G\t/home/jupyter/.fastai/data/planet/train-jpg\n",
      "690M\t/home/jupyter/.fastai/data/planet/test-jpg\n",
      "8.0K\t/home/jupyter/.fastai/data/planet/__MACOSX\n",
      "4.0G\t/home/jupyter/.fastai/data/planet\n"
     ]
    }
   ],
   "source": [
    "!du -h {path}"
   ]
  },
  {
   "cell_type": "code",
   "execution_count": 7,
   "metadata": {},
   "outputs": [
    {
     "name": "stdout",
     "output_type": "stream",
     "text": [
      "ssh-rsa AAAAB3NzaC1yc2EAAAADAQABAAACAQDFk52epEVxsiqR2y5ytW00IubVhoPRCsP3DA6s9N70Fa+DnGNviDWjruhCxIHyWerUsOO7PXlWRFtidsrv/Oo4ZVn+cjV5+hmkaOFTokj/v//TTzzQetgnB+4AqwQOW96Kckm0LYT3QkP4HIhsPMd+95KeA6anbol1S0kw6gc+45Uk422wdXhC1UP6Zjquc1oSbu7LhwEpyyubix4XAUQ+K8KOqYCTwdUvQmL0KHm5BwiwmJ1yMNWZvS2eGuQTn8WPuavgr9yqpYUNbzbUraK64TTd298zLhMTOcLB9YaMb/kDHozsyc16UpkAr5sfSyWZPk6UGWJE8wRczPLrmF5GhViwH1zWXbyM0T8NhLzZ3jelcdJ3bl+bmFd/tuudKIBMw95HrtgRj+0jgmDVadv/vA2672Am5ijA9sFCiS5QKBdxuOkVr6WKSezcXI3S1Gu50zyAvCmH9EJpMQkEHr9+f8hAlueRdk+S8OCghhL6bhFllsuLusL3n16WwrBLSXumSi0s9M/NpW4mIM97LNZrLCOfh9uY0IG8JUa+G7YCjw5MgF3Kp3DHbNWsK2MT/RA11k8D5xK5cLvbjRrF48rUZCJwKenO8JPv6QWUtgsJYrdeS6XCos3ijCXyUu64t4eauX4s1zVTgYMmzZQmtx5nGFiCCwwIs+LrPOy8hGcTeQ== drevicky@gmail.com\n"
     ]
    }
   ],
   "source": [
    "!cat ~/.ssh/id_rsa.pub"
   ]
  },
  {
   "cell_type": "code",
   "execution_count": null,
   "metadata": {},
   "outputs": [],
   "source": []
  }
 ],
 "metadata": {
  "kernelspec": {
   "display_name": "Python 3",
   "language": "python",
   "name": "python3"
  },
  "language_info": {
   "codemirror_mode": {
    "name": "ipython",
    "version": 3
   },
   "file_extension": ".py",
   "mimetype": "text/x-python",
   "name": "python",
   "nbconvert_exporter": "python",
   "pygments_lexer": "ipython3",
   "version": "3.7.2"
  }
 },
 "nbformat": 4,
 "nbformat_minor": 2
}
